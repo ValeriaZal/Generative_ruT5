version https://git-lfs.github.com/spec/v1
oid sha256:19e52bbdb9470b3001967a3abd2057e4072f8157ea05bd9911d493f5c42e3491
size 199431
